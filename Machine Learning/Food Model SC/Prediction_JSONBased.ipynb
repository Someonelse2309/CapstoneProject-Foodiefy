{
 "cells": [
  {
   "cell_type": "code",
   "execution_count": 11,
   "id": "d772f5d5-110b-4c8a-bdb8-d2b1588fea7e",
   "metadata": {},
   "outputs": [],
   "source": [
    "import tensorflow as tf\n",
    "import numpy as np\n",
    "import json"
   ]
  },
  {
   "cell_type": "code",
   "execution_count": 12,
   "id": "4298f3c3-c0f4-4eed-900f-8722ab6ef2b1",
   "metadata": {},
   "outputs": [],
   "source": [
    "fjson = './FoodJSON.json'\n",
    "with open(fjson) as file:\n",
    "    data = json.load(file)"
   ]
  },
  {
   "cell_type": "code",
   "execution_count": 13,
   "id": "f9623482-1a5f-44b1-999d-812c9234fd83",
   "metadata": {},
   "outputs": [],
   "source": [
    "# image_path = './Datajadi/test/chicken_curry/214993.jpg'\n",
    "image_path = './beeftartar.png'\n",
    "img = tf.keras.preprocessing.image.load_img(image_path, target_size=(256,256))\n",
    "img_array = tf.keras.preprocessing.image.img_to_array(img)\n",
    "img_array = tf.convert_to_tensor(img_array)\n",
    "img_array = tf.expand_dims(img_array, axis=0)"
   ]
  },
  {
   "cell_type": "code",
   "execution_count": 14,
   "id": "c8c825a0-9a02-442e-880e-74bf6494feef",
   "metadata": {},
   "outputs": [
    {
     "name": "stderr",
     "output_type": "stream",
     "text": [
      "WARNING:absl:Compiled the loaded model, but the compiled metrics have yet to be built. `model.compile_metrics` will be empty until you train or evaluate the model.\n"
     ]
    }
   ],
   "source": [
    "model = tf.keras.models.load_model('TranferRevised/Categorical_TlEfnet_60_epochs.h5') # note untuk CC ini nanti diganti ke nama model nya yang foodClassifier"
   ]
  },
  {
   "cell_type": "code",
   "execution_count": 15,
   "id": "1e93aaaf-cb2d-4e6e-bfb6-5beaaa660c71",
   "metadata": {},
   "outputs": [
    {
     "name": "stdout",
     "output_type": "stream",
     "text": [
      "\u001b[1m1/1\u001b[0m \u001b[32m━━━━━━━━━━━━━━━━━━━━\u001b[0m\u001b[37m\u001b[0m \u001b[1m4s\u001b[0m 4s/step\n",
      "Nama : Beef Tartare\n",
      "Calories : 300\n",
      "Carbs : 0\n",
      "Protein : 25\n",
      "Fat : 20\n",
      "Sureness:0.76749187707901\n"
     ]
    }
   ],
   "source": [
    "predictions = model.predict(img_array)\n",
    "threshold = 0.6\n",
    "Stored = []\n",
    "for i in range(len(predictions[0])):\n",
    "    if predictions[0][i] >= threshold:\n",
    "        Stored.append(i)\n",
    "for i in Stored:\n",
    "    print(f\"Nama : {data[i]['name']}\")\n",
    "    print(f\"Calories : {data[i]['calories']}\")\n",
    "    print(f\"Carbs : {data[i]['carbs']}\")\n",
    "    print(f\"Protein : {data[i]['protein']}\")\n",
    "    print(f\"Fat : {data[i]['fat']}\")\n",
    "    print(f\"Sureness:{predictions[0][i]}\" )"
   ]
  },
  {
   "cell_type": "code",
   "execution_count": null,
   "id": "c66e609f-aade-49f5-b221-4eec526956d4",
   "metadata": {},
   "outputs": [],
   "source": []
  }
 ],
 "metadata": {
  "kernelspec": {
   "display_name": "Python 3 (ipykernel)",
   "language": "python",
   "name": "python3"
  },
  "language_info": {
   "codemirror_mode": {
    "name": "ipython",
    "version": 3
   },
   "file_extension": ".py",
   "mimetype": "text/x-python",
   "name": "python",
   "nbconvert_exporter": "python",
   "pygments_lexer": "ipython3",
   "version": "3.12.3"
  }
 },
 "nbformat": 4,
 "nbformat_minor": 5
}
