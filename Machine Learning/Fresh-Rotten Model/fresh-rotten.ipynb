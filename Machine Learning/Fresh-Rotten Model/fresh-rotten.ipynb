{
 "cells": [
  {
   "cell_type": "code",
   "execution_count": 1,
   "id": "8609537a-3d27-4e43-880b-9646dc7e1722",
   "metadata": {},
   "outputs": [],
   "source": [
    "import os\n",
    "from PIL import Image\n",
    "import tensorflow as tf\n",
    "from tensorflow.keras.preprocessing import image_dataset_from_directory\n",
    "from tensorflow.keras import layers, models\n",
    "from tensorflow.keras.applications import MobileNetV2"
   ]
  },
  {
   "cell_type": "code",
   "execution_count": 2,
   "id": "c8a2f65f-ad43-4eb1-a3cc-5c31d9b03d7c",
   "metadata": {},
   "outputs": [],
   "source": [
    "image_size = (256, 256)\n",
    "batch_size = 32"
   ]
  },
  {
   "cell_type": "code",
   "execution_count": 3,
   "id": "5a088a25-14ba-437b-ac41-3f9ea8c86a3e",
   "metadata": {},
   "outputs": [],
   "source": [
    "train_path = \"fresh-rotten/Train\"\n",
    "val_path = \"fresh-rotten/Validation\"\n",
    "test_path = \"fresh-rotten/Test\""
   ]
  },
  {
   "cell_type": "code",
   "execution_count": 4,
   "id": "a8fe390a-4363-414d-bdee-678dd4fedaa5",
   "metadata": {},
   "outputs": [
    {
     "name": "stdout",
     "output_type": "stream",
     "text": [
      "Found 4677 files belonging to 24 classes.\n",
      "Found 1614 files belonging to 24 classes.\n",
      "Found 1549 files belonging to 24 classes.\n"
     ]
    }
   ],
   "source": [
    "train_dataset = image_dataset_from_directory(\n",
    "    train_path,\n",
    "    label_mode=\"int\",         \n",
    "    image_size=image_size,\n",
    "    batch_size=batch_size,\n",
    ")\n",
    "# .map(lambda x: (x, custom_label_mapping(x.file_path)))\n",
    "\n",
    "val_dataset = image_dataset_from_directory(\n",
    "    val_path,\n",
    "    label_mode=\"int\",\n",
    "    image_size=image_size,\n",
    "    batch_size=batch_size,\n",
    ")\n",
    "# .map(lambda x: (x, custom_label_mapping(x.file_path)))\n",
    "\n",
    "test_dataset = image_dataset_from_directory(\n",
    "    test_path,\n",
    "    label_mode=\"int\",\n",
    "    image_size=image_size,\n",
    "    batch_size=batch_size,\n",
    ")\n",
    "# .map(lambda x: (x, custom_label_mapping(x.file_path)))"
   ]
  },
  {
   "cell_type": "code",
   "execution_count": 5,
   "id": "657fdc09-f071-4eca-9b75-8cb9864a738f",
   "metadata": {},
   "outputs": [],
   "source": [
    "def custom_label_mapping(image, label):\n",
    "    new_label = tf.where(label < 9, 0, 1)\n",
    "    return image, new_label\n",
    "\n",
    "train_dataset = train_dataset.map(custom_label_mapping)\n",
    "val_dataset = val_dataset.map(custom_label_mapping)\n",
    "test_dataset = test_dataset.map(custom_label_mapping)"
   ]
  },
  {
   "cell_type": "code",
   "execution_count": 6,
   "id": "590761d8-a4dc-4d58-a70e-86e03bc687be",
   "metadata": {},
   "outputs": [],
   "source": [
    "data_augmentation = tf.keras.Sequential([\n",
    "    tf.keras.layers.RandomFlip(\"horizontal\"),\n",
    "    tf.keras.layers.RandomRotation(0.1),\n",
    "    tf.keras.layers.RandomZoom(0.1),\n",
    "])"
   ]
  },
  {
   "cell_type": "code",
   "execution_count": 7,
   "id": "33799417-54b9-45ff-94d4-bbf6c2b6ee30",
   "metadata": {},
   "outputs": [],
   "source": [
    "def process_image(image, label):\n",
    "    image = tf.cast(image, tf.float32) / 255.0  \n",
    "    return image, label\n",
    "\n",
    "train_dataset = train_dataset.map(lambda x, y : (data_augmentation(x, training=True), y)).map(process_image)\n",
    "val_dataset = val_dataset.map(process_image)\n",
    "test_dataset = test_dataset.map(process_image)"
   ]
  },
  {
   "cell_type": "code",
   "execution_count": 8,
   "id": "09498bc0-49a8-4b6e-91df-8a79521ea547",
   "metadata": {},
   "outputs": [
    {
     "name": "stderr",
     "output_type": "stream",
     "text": [
      "C:\\Users\\LENOVO\\AppData\\Local\\Temp\\ipykernel_15488\\766329986.py:1: UserWarning: `input_shape` is undefined or non-square, or `rows` is not in [96, 128, 160, 192, 224]. Weights for input shape (224, 224) will be loaded as the default.\n",
      "  base_model = MobileNetV2(weights='imagenet', include_top=False, input_shape=(256, 256, 3))\n"
     ]
    }
   ],
   "source": [
    "base_model = MobileNetV2(weights='imagenet', include_top=False, input_shape=(256, 256, 3))\n",
    "base_model.trainable = False"
   ]
  },
  {
   "cell_type": "code",
   "execution_count": 9,
   "id": "5941dc4e-6dbb-4691-b1fa-a60827d68790",
   "metadata": {},
   "outputs": [],
   "source": [
    "# def create_model():\n",
    "#     model = models.Sequential([\n",
    "#         layers.Input(shape=(256, 256, 3)),\n",
    "#         layers.Rescaling(1/255.),\n",
    "#         layers.Conv2D(32, (3, 3), activation='relu'),\n",
    "#         layers.MaxPooling2D((2, 2)),\n",
    "#         layers.Conv2D(64, (3, 3), activation='relu'),\n",
    "#         layers.MaxPooling2D((2, 2)),\n",
    "#         layers.Conv2D(128, (3, 3), activation='relu'),\n",
    "#         layers.MaxPooling2D((2, 2)),\n",
    "#         layers.Flatten(),\n",
    "#         layers.Dense(256, activation='relu'),\n",
    "#         layers.Dense(1, activation=\"sigmoid\")\n",
    "#     ])\n",
    "\n",
    "#     model.compile(optimizer=tf.keras.optimizers.Adam(learning_rate=1e-3), loss=\"binary_crossentropy\", metrics=[\"accuracy\"])\n",
    "#     return model"
   ]
  },
  {
   "cell_type": "code",
   "execution_count": 10,
   "id": "b3937cb1-5d31-4e33-9475-a926637119b0",
   "metadata": {},
   "outputs": [],
   "source": [
    "model = models.Sequential([\n",
    "    base_model,\n",
    "    layers.Rescaling(1/255.),\n",
    "    layers.GlobalAveragePooling2D(),\n",
    "    layers.Dropout(0.3),\n",
    "    layers.Dense(256, activation=\"relu\"),\n",
    "    layers.Dropout(0.3),\n",
    "    layers.Dense(1, activation=\"sigmoid\")\n",
    "])\n",
    "\n",
    "model.compile(tf.keras.optimizers.Adam(learning_rate=1e-3), loss=\"binary_crossentropy\", metrics=[\"accuracy\"])"
   ]
  },
  {
   "cell_type": "code",
   "execution_count": 11,
   "id": "88218d1b-6195-4b10-b014-fc2fcb8d416a",
   "metadata": {},
   "outputs": [],
   "source": [
    "# model = create_model()"
   ]
  },
  {
   "cell_type": "code",
   "execution_count": 12,
   "id": "f02282cb-9b68-4f55-ae2e-a622132de927",
   "metadata": {},
   "outputs": [
    {
     "name": "stdout",
     "output_type": "stream",
     "text": [
      "Epoch 1/20\n",
      "\u001b[1m147/147\u001b[0m \u001b[32m━━━━━━━━━━━━━━━━━━━━\u001b[0m\u001b[37m\u001b[0m \u001b[1m306s\u001b[0m 2s/step - accuracy: 0.6139 - loss: 0.6477 - val_accuracy: 0.6945 - val_loss: 0.5177\n",
      "Epoch 2/20\n",
      "\u001b[1m147/147\u001b[0m \u001b[32m━━━━━━━━━━━━━━━━━━━━\u001b[0m\u001b[37m\u001b[0m \u001b[1m268s\u001b[0m 2s/step - accuracy: 0.8019 - loss: 0.4751 - val_accuracy: 0.8333 - val_loss: 0.3825\n",
      "Epoch 3/20\n",
      "\u001b[1m147/147\u001b[0m \u001b[32m━━━━━━━━━━━━━━━━━━━━\u001b[0m\u001b[37m\u001b[0m \u001b[1m241s\u001b[0m 2s/step - accuracy: 0.8954 - loss: 0.3324 - val_accuracy: 0.8482 - val_loss: 0.3303\n",
      "Epoch 4/20\n",
      "\u001b[1m147/147\u001b[0m \u001b[32m━━━━━━━━━━━━━━━━━━━━\u001b[0m\u001b[37m\u001b[0m \u001b[1m234s\u001b[0m 2s/step - accuracy: 0.9065 - loss: 0.2710 - val_accuracy: 0.8507 - val_loss: 0.3144\n",
      "Epoch 5/20\n",
      "\u001b[1m147/147\u001b[0m \u001b[32m━━━━━━━━━━━━━━━━━━━━\u001b[0m\u001b[37m\u001b[0m \u001b[1m227s\u001b[0m 2s/step - accuracy: 0.9118 - loss: 0.2517 - val_accuracy: 0.8550 - val_loss: 0.3069\n",
      "Epoch 6/20\n",
      "\u001b[1m147/147\u001b[0m \u001b[32m━━━━━━━━━━━━━━━━━━━━\u001b[0m\u001b[37m\u001b[0m \u001b[1m224s\u001b[0m 2s/step - accuracy: 0.9167 - loss: 0.2275 - val_accuracy: 0.8662 - val_loss: 0.2875\n",
      "Epoch 7/20\n",
      "\u001b[1m147/147\u001b[0m \u001b[32m━━━━━━━━━━━━━━━━━━━━\u001b[0m\u001b[37m\u001b[0m \u001b[1m219s\u001b[0m 1s/step - accuracy: 0.9179 - loss: 0.2222 - val_accuracy: 0.8730 - val_loss: 0.2738\n",
      "Epoch 8/20\n",
      "\u001b[1m147/147\u001b[0m \u001b[32m━━━━━━━━━━━━━━━━━━━━\u001b[0m\u001b[37m\u001b[0m \u001b[1m234s\u001b[0m 2s/step - accuracy: 0.9240 - loss: 0.2097 - val_accuracy: 0.8699 - val_loss: 0.2722\n",
      "Epoch 9/20\n",
      "\u001b[1m147/147\u001b[0m \u001b[32m━━━━━━━━━━━━━━━━━━━━\u001b[0m\u001b[37m\u001b[0m \u001b[1m238s\u001b[0m 2s/step - accuracy: 0.9236 - loss: 0.1973 - val_accuracy: 0.8835 - val_loss: 0.2543\n",
      "Epoch 10/20\n",
      "\u001b[1m147/147\u001b[0m \u001b[32m━━━━━━━━━━━━━━━━━━━━\u001b[0m\u001b[37m\u001b[0m \u001b[1m184s\u001b[0m 1s/step - accuracy: 0.9264 - loss: 0.1903 - val_accuracy: 0.8817 - val_loss: 0.2561\n",
      "Epoch 11/20\n",
      "\u001b[1m147/147\u001b[0m \u001b[32m━━━━━━━━━━━━━━━━━━━━\u001b[0m\u001b[37m\u001b[0m \u001b[1m185s\u001b[0m 1s/step - accuracy: 0.9321 - loss: 0.1904 - val_accuracy: 0.8872 - val_loss: 0.2513\n",
      "Epoch 12/20\n",
      "\u001b[1m147/147\u001b[0m \u001b[32m━━━━━━━━━━━━━━━━━━━━\u001b[0m\u001b[37m\u001b[0m \u001b[1m200s\u001b[0m 1s/step - accuracy: 0.9310 - loss: 0.1783 - val_accuracy: 0.8910 - val_loss: 0.2426\n",
      "Epoch 13/20\n",
      "\u001b[1m147/147\u001b[0m \u001b[32m━━━━━━━━━━━━━━━━━━━━\u001b[0m\u001b[37m\u001b[0m \u001b[1m208s\u001b[0m 1s/step - accuracy: 0.9336 - loss: 0.1726 - val_accuracy: 0.8885 - val_loss: 0.2489\n",
      "Epoch 14/20\n",
      "\u001b[1m147/147\u001b[0m \u001b[32m━━━━━━━━━━━━━━━━━━━━\u001b[0m\u001b[37m\u001b[0m \u001b[1m227s\u001b[0m 2s/step - accuracy: 0.9296 - loss: 0.1760 - val_accuracy: 0.8928 - val_loss: 0.2379\n",
      "Epoch 15/20\n",
      "\u001b[1m147/147\u001b[0m \u001b[32m━━━━━━━━━━━━━━━━━━━━\u001b[0m\u001b[37m\u001b[0m \u001b[1m176s\u001b[0m 1s/step - accuracy: 0.9276 - loss: 0.1814 - val_accuracy: 0.9009 - val_loss: 0.2257\n",
      "Epoch 16/20\n",
      "\u001b[1m147/147\u001b[0m \u001b[32m━━━━━━━━━━━━━━━━━━━━\u001b[0m\u001b[37m\u001b[0m \u001b[1m197s\u001b[0m 1s/step - accuracy: 0.9336 - loss: 0.1723 - val_accuracy: 0.8978 - val_loss: 0.2301\n",
      "Epoch 17/20\n",
      "\u001b[1m147/147\u001b[0m \u001b[32m━━━━━━━━━━━━━━━━━━━━\u001b[0m\u001b[37m\u001b[0m \u001b[1m164s\u001b[0m 1s/step - accuracy: 0.9366 - loss: 0.1608 - val_accuracy: 0.9046 - val_loss: 0.2224\n",
      "Epoch 18/20\n",
      "\u001b[1m147/147\u001b[0m \u001b[32m━━━━━━━━━━━━━━━━━━━━\u001b[0m\u001b[37m\u001b[0m \u001b[1m164s\u001b[0m 1s/step - accuracy: 0.9342 - loss: 0.1626 - val_accuracy: 0.9021 - val_loss: 0.2295\n",
      "Epoch 19/20\n",
      "\u001b[1m147/147\u001b[0m \u001b[32m━━━━━━━━━━━━━━━━━━━━\u001b[0m\u001b[37m\u001b[0m \u001b[1m172s\u001b[0m 1s/step - accuracy: 0.9310 - loss: 0.1687 - val_accuracy: 0.9040 - val_loss: 0.2277\n",
      "Epoch 20/20\n",
      "\u001b[1m147/147\u001b[0m \u001b[32m━━━━━━━━━━━━━━━━━━━━\u001b[0m\u001b[37m\u001b[0m \u001b[1m168s\u001b[0m 1s/step - accuracy: 0.9356 - loss: 0.1555 - val_accuracy: 0.9040 - val_loss: 0.2259\n"
     ]
    }
   ],
   "source": [
    "history = model.fit(train_dataset, epochs=20, validation_data=val_dataset)"
   ]
  },
  {
   "cell_type": "code",
   "execution_count": 13,
   "id": "0bf062ea-4881-4650-ad65-93dc6b62068f",
   "metadata": {},
   "outputs": [
    {
     "name": "stdout",
     "output_type": "stream",
     "text": [
      "\u001b[1m51/51\u001b[0m \u001b[32m━━━━━━━━━━━━━━━━━━━━\u001b[0m\u001b[37m\u001b[0m \u001b[1m38s\u001b[0m 730ms/step - accuracy: 0.9107 - loss: 0.2161\n",
      "\u001b[1m147/147\u001b[0m \u001b[32m━━━━━━━━━━━━━━━━━━━━\u001b[0m\u001b[37m\u001b[0m \u001b[1m124s\u001b[0m 833ms/step - accuracy: 0.9456 - loss: 0.1395\n",
      "\u001b[1m49/49\u001b[0m \u001b[32m━━━━━━━━━━━━━━━━━━━━\u001b[0m\u001b[37m\u001b[0m \u001b[1m42s\u001b[0m 772ms/step - accuracy: 0.8790 - loss: 0.2975\n",
      "Train Accuracy\t\t: 95.04% | Train Loss\t\t: 0.1344812959432602\n",
      "Validation Accuracy\t: 90.40% | Validation Loss\t: 0.2258681058883667\n",
      "Test Accuracy\t\t: 88.70% | Test Loss \t\t: 0.28562793135643005\n"
     ]
    }
   ],
   "source": [
    "val_loss, val_acc = model.evaluate(val_dataset)\n",
    "tra_loss, tra_acc = model.evaluate(train_dataset)\n",
    "test_loss, test_acc = model.evaluate(test_dataset)\n",
    "\n",
    "print(f\"Train Accuracy\\t\\t: {tra_acc * 100:.2f}% | Train Loss\\t\\t: {tra_loss}\")\n",
    "print(f\"Validation Accuracy\\t: {val_acc * 100:.2f}% | Validation Loss\\t: {val_loss}\")\n",
    "print(f\"Test Accuracy\\t\\t: {test_acc * 100:.2f}% | Test Loss \\t\\t: {test_loss}\")"
   ]
  },
  {
   "cell_type": "code",
   "execution_count": 14,
   "id": "f5597134-d908-443f-bf5e-cde77e37a12a",
   "metadata": {},
   "outputs": [
    {
     "data": {
      "image/png": "[encoded data removed]",
      "text/plain": [
       "<Figure size 640x480 with 1 Axes>"
      ]
     },
     "metadata": {},
     "output_type": "display_data"
    }
   ],
   "source": [
    "import matplotlib.pyplot as plt\n",
    "\n",
    "plt.plot(history.history['loss'], label='Training Loss')\n",
    "plt.plot(history.history['val_loss'], label='Validation Loss')\n",
    "plt.xlabel('Epochs')\n",
    "plt.ylabel('Loss')\n",
    "plt.legend()\n",
    "plt.show()"
   ]
  },
  {
   "cell_type": "code",
   "execution_count": 15,
   "id": "0a2ab69d-b7c3-46db-a206-ed93756612c9",
   "metadata": {},
   "outputs": [
    {
     "name": "stderr",
     "output_type": "stream",
     "text": [
      "WARNING:absl:You are saving your model as an HDF5 file via `model.save()` or `keras.saving.save_model(model)`. This file format is considered legacy. We recommend using instead the native Keras format, e.g. `model.save('my_model.keras')` or `keras.saving.save_model(model, 'my_model.keras')`. \n"
     ]
    }
   ],
   "source": [
    "model.save(\"fresh-rotten-MobileNetV2.h5\")"
   ]
  },
  {
   "cell_type": "code",
   "execution_count": 16,
   "id": "1adc6c93-a9da-4695-85cb-9f5522235609",
   "metadata": {},
   "outputs": [],
   "source": [
    "model.save(\"fresh-rotten-MobileNetV2.keras\")"
   ]
  }
 ],
 "metadata": {
  "kernelspec": {
   "display_name": "Python 3 (ipykernel)",
   "language": "python",
   "name": "python3"
  },
  "language_info": {
   "codemirror_mode": {
    "name": "ipython",
    "version": 3
   },
   "file_extension": ".py",
   "mimetype": "text/x-python",
   "name": "python",
   "nbconvert_exporter": "python",
   "pygments_lexer": "ipython3",
   "version": "3.12.7"
  }
 },
 "nbformat": 4,
 "nbformat_minor": 5
}
